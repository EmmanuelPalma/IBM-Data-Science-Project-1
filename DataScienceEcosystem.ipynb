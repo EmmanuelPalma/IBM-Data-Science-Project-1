{
 "cells": [
  {
   "cell_type": "markdown",
   "id": "b39f484a-8026-4fd7-a0c5-ac3492fcecec",
   "metadata": {},
   "source": [
    "# Data Science Tools and Ecosystem"
   ]
  },
  {
   "cell_type": "markdown",
   "id": "8ce54a04-cca4-42c1-b457-4c78c7afdda6",
   "metadata": {},
   "source": [
    "#### In this notebook, some Data Science Tools and Ecosystem are aplicated in a summary"
   ]
  },
  {
   "cell_type": "markdown",
   "id": "64fd8ec0-2804-4d07-8131-d6c724a06671",
   "metadata": {},
   "source": [
    "#### **Objectives**\n",
    "- Name popular languages of Data Science\n",
    "- Name popular libraries of Data Science\n",
    "- Name Data Science Tools\n",
    "- Create a Table using Mark Downs\n",
    "- Create ordered and unordered lists\n",
    "- Evaluate Arithmetic expressions\n",
    "  \n"
   ]
  },
  {
   "cell_type": "markdown",
   "id": "5ebdf728-0d53-4daf-9561-ec01c8919dcb",
   "metadata": {},
   "source": [
    "##### Some of the popular languages that Data Scientist use are:\n",
    "1. Python\n",
    "2. R\n",
    "3. Java\n",
    "4. Java Script\n",
    "5. C++\n",
    "6. SQL"
   ]
  },
  {
   "cell_type": "markdown",
   "id": "e64fb1a2-92c7-4b6c-82d6-9101b676bf1b",
   "metadata": {},
   "source": [
    "##### Some of the commonly used libraries used by Data Scientist are:\n",
    "1. Pandas\n",
    "2. Numpy\n",
    "3. Matplotlib\n",
    "4. SciPy"
   ]
  },
  {
   "cell_type": "markdown",
   "id": "74b8d195-ea10-499d-afea-6434bc04b14a",
   "metadata": {},
   "source": [
    "|Data Science Tools| \n",
    "|------------------|\n",
    "|Jupyter Notebooks|\n",
    "|R Studio|\n",
    "|Google Colab|\n"
   ]
  },
  {
   "cell_type": "markdown",
   "id": "c58ce41a-54b8-426b-ae8d-6f7992da8129",
   "metadata": {},
   "source": [
    "### Below are some examples of evaluating arithmetic expressions in Python"
   ]
  },
  {
   "cell_type": "code",
   "execution_count": 15,
   "id": "eda26370-1f57-492b-96a7-012d51cff5e8",
   "metadata": {},
   "outputs": [
    {
     "data": {
      "text/plain": [
       "17"
      ]
     },
     "execution_count": 15,
     "metadata": {},
     "output_type": "execute_result"
    }
   ],
   "source": [
    "#This is a simple operation with multiplication and additions\n",
    "(3*4)+5"
   ]
  },
  {
   "cell_type": "code",
   "execution_count": 25,
   "id": "745beaf1-5cd1-46ef-9940-63134e35e3b5",
   "metadata": {},
   "outputs": [
    {
     "name": "stdout",
     "output_type": "stream",
     "text": [
      "Hours= 3.3333333333333335\n"
     ]
    }
   ],
   "source": [
    "#This code can convert minutes to hours\n",
    "Minutes=200\n",
    "Hours=Minutes/60\n",
    "print(\"Hours=\",Hours)\n"
   ]
  },
  {
   "cell_type": "markdown",
   "id": "c63c6f75-9dc8-4a7b-9ddb-de4c47d98393",
   "metadata": {},
   "source": [
    "## Author:\n",
    "Emmanuel Garduño Palma"
   ]
  },
  {
   "cell_type": "code",
   "execution_count": null,
   "id": "f12138d8-5c27-483c-a79e-09e7885aac3a",
   "metadata": {},
   "outputs": [],
   "source": []
  }
 ],
 "metadata": {
  "kernelspec": {
   "display_name": "Python 3 (ipykernel)",
   "language": "python",
   "name": "python3"
  },
  "language_info": {
   "codemirror_mode": {
    "name": "ipython",
    "version": 3
   },
   "file_extension": ".py",
   "mimetype": "text/x-python",
   "name": "python",
   "nbconvert_exporter": "python",
   "pygments_lexer": "ipython3",
   "version": "3.12.4"
  }
 },
 "nbformat": 4,
 "nbformat_minor": 5
}
